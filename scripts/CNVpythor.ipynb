{
 "cells": [
  {
   "cell_type": "code",
   "execution_count": 1,
   "id": "30c93f26",
   "metadata": {},
   "outputs": [],
   "source": [
    "import cnvpytor"
   ]
  },
  {
   "cell_type": "code",
   "execution_count": 2,
   "id": "046cedfe",
   "metadata": {},
   "outputs": [
    {
     "name": "stdout",
     "output_type": "stream",
     "text": [
      "1.2\n"
     ]
    }
   ],
   "source": [
    "print(cnvpytor.__version__)"
   ]
  },
  {
   "cell_type": "code",
   "execution_count": 3,
   "id": "96adc06e",
   "metadata": {},
   "outputs": [],
   "source": [
    "import logging\n",
    "logging.basicConfig(level=logging.INFO, format='%(asctime)s - %(name)s - %(levelname)s - %(message)s')\n",
    "logger = logging.getLogger('cnvpytor')"
   ]
  },
  {
   "cell_type": "code",
   "execution_count": null,
   "id": "418b9c9f",
   "metadata": {},
   "outputs": [],
   "source": [
    "app = cnvpytor.Root(\"test.pytor\", create=True, max_cores=24)"
   ]
  },
  {
   "cell_type": "code",
   "execution_count": null,
   "id": "d50f8f92",
   "metadata": {},
   "outputs": [],
   "source": [
    "help(cnvpytor.Root.rd)"
   ]
  },
  {
   "cell_type": "code",
   "execution_count": null,
   "id": "8a4ddd7d",
   "metadata": {},
   "outputs": [],
   "source": [
    "chroms=[str(i) for i in range(1,23)]+[\"X\",\"Y\"]\n",
    "print(chroms)"
   ]
  },
  {
   "cell_type": "code",
   "execution_count": null,
   "id": "2776bae9",
   "metadata": {},
   "outputs": [],
   "source": [
    "app.rd([\"/branchinecta/jbazanwilliamson/SGDP/data/SAMEA3302610.alt_bwamem_GRCh38DH.20200922.Irula.simons.cram.sort.bam\"], chroms=chroms)"
   ]
  },
  {
   "cell_type": "code",
   "execution_count": 7,
   "id": "7cede546",
   "metadata": {},
   "outputs": [
    {
     "ename": "NameError",
     "evalue": "name 'app' is not defined",
     "output_type": "error",
     "traceback": [
      "\u001b[0;31m---------------------------------------------------------------------------\u001b[0m",
      "\u001b[0;31mNameError\u001b[0m                                 Traceback (most recent call last)",
      "\u001b[0;32m<ipython-input-7-eb3e83a60180>\u001b[0m in \u001b[0;36m<module>\u001b[0;34m\u001b[0m\n\u001b[0;32m----> 1\u001b[0;31m \u001b[0mapp\u001b[0m\u001b[0;34m.\u001b[0m\u001b[0mrd\u001b[0m\u001b[0;34m(\u001b[0m\u001b[0;34m[\u001b[0m\u001b[0;34m\"test.bam\"\u001b[0m\u001b[0;34m]\u001b[0m\u001b[0;34m,\u001b[0m \u001b[0mchroms\u001b[0m\u001b[0;34m=\u001b[0m\u001b[0mchroms\u001b[0m\u001b[0;34m)\u001b[0m\u001b[0;34m\u001b[0m\u001b[0;34m\u001b[0m\u001b[0m\n\u001b[0m",
      "\u001b[0;31mNameError\u001b[0m: name 'app' is not defined"
     ]
    }
   ],
   "source": []
  },
  {
   "cell_type": "code",
   "execution_count": null,
   "id": "676a24f4",
   "metadata": {},
   "outputs": [],
   "source": []
  }
 ],
 "metadata": {
  "kernelspec": {
   "display_name": "Python 3",
   "language": "python",
   "name": "python3"
  },
  "language_info": {
   "codemirror_mode": {
    "name": "ipython",
    "version": 3
   },
   "file_extension": ".py",
   "mimetype": "text/x-python",
   "name": "python",
   "nbconvert_exporter": "python",
   "pygments_lexer": "ipython3",
   "version": "3.6.13"
  }
 },
 "nbformat": 4,
 "nbformat_minor": 5
}
