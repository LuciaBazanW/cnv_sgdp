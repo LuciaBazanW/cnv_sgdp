{
 "cells": [
  {
   "cell_type": "code",
   "execution_count": 3,
   "id": "bb3b0e8c",
   "metadata": {},
   "outputs": [
    {
     "ename": "ERROR",
     "evalue": "Error in library(HandyCNV): there is no package called ‘HandyCNV’\n",
     "output_type": "error",
     "traceback": [
      "Error in library(HandyCNV): there is no package called ‘HandyCNV’\nTraceback:\n",
      "1. library(HandyCNV)"
     ]
    }
   ],
   "source": [
    "library(HandyCNV)"
   ]
  },
  {
   "cell_type": "code",
   "execution_count": 2,
   "id": "8470b38d",
   "metadata": {},
   "outputs": [
    {
     "name": "stderr",
     "output_type": "stream",
     "text": [
      "Updating HTML index of packages in '.Library'\n",
      "\n",
      "Making 'packages.html' ...\n",
      " done\n",
      "\n",
      "Downloading GitHub repo JH-Zhou/HandyCNV@HEAD\n",
      "\n"
     ]
    },
    {
     "name": "stdout",
     "output_type": "stream",
     "text": [
      "fontawesome (0.5.1 -> 0.5.2    ) [CRAN]\n",
      "bslib       (0.5.0 -> 0.5.1    ) [CRAN]\n",
      "rmarkdown   (2.23  -> 2.24     ) [CRAN]\n",
      "gtable      (0.3.3 -> 0.3.4    ) [CRAN]\n",
      "ggplot2     (3.4.2 -> 3.4.3    ) [CRAN]\n",
      "RcppEigen   (NA    -> 0.3.3.9.3) [CRAN]\n",
      "gaston      (NA    -> 1.5.9    ) [CRAN]\n"
     ]
    },
    {
     "name": "stderr",
     "output_type": "stream",
     "text": [
      "Installing 7 packages: fontawesome, bslib, rmarkdown, gtable, ggplot2, RcppEigen, gaston\n",
      "\n",
      "Warning message in i.p(...):\n",
      "“installation of package ‘RcppEigen’ had non-zero exit status”\n",
      "Warning message in i.p(...):\n",
      "“installation of package ‘gaston’ had non-zero exit status”\n",
      "Updating HTML index of packages in '.Library'\n",
      "\n",
      "Making 'packages.html' ...\n",
      " done\n",
      "\n",
      "Running `R CMD build`...\n",
      "\n"
     ]
    },
    {
     "name": "stdout",
     "output_type": "stream",
     "text": [
      "* checking for file ‘/private/var/folders/05/4pfxtbrs5459ytz3j1jhcgt00000gn/T/RtmpwMfSbg/remotes102c47d27df5f/JH-Zhou-HandyCNV-d38b758/DESCRIPTION’ ... OK\n",
      "* preparing ‘HandyCNV’:\n",
      "* checking DESCRIPTION meta-information ... OK\n",
      "* checking for LF line-endings in source and make files and shell scripts\n",
      "* checking for empty or unneeded directories\n",
      "Omitted ‘LazyData’ from DESCRIPTION\n",
      "* building ‘HandyCNV_1.1.7.tar.gz’\n"
     ]
    },
    {
     "name": "stderr",
     "output_type": "stream",
     "text": [
      "Warning message in i.p(...):\n",
      "“installation of package ‘/var/folders/05/4pfxtbrs5459ytz3j1jhcgt00000gn/T//RtmpwMfSbg/file102c4150542a6/HandyCNV_1.1.7.tar.gz’ had non-zero exit status”\n"
     ]
    }
   ],
   "source": [
    "install.packages(\"remotes\")\n",
    "library(remotes)\n",
    "install_github(repo = \"JH-Zhou/HandyCNV\")"
   ]
  },
  {
   "cell_type": "code",
   "execution_count": null,
   "id": "26bf83e9",
   "metadata": {},
   "outputs": [],
   "source": []
  }
 ],
 "metadata": {
  "kernelspec": {
   "display_name": "R",
   "language": "R",
   "name": "ir"
  },
  "language_info": {
   "codemirror_mode": "r",
   "file_extension": ".r",
   "mimetype": "text/x-r-source",
   "name": "R",
   "pygments_lexer": "r",
   "version": "4.1.0"
  }
 },
 "nbformat": 4,
 "nbformat_minor": 5
}
