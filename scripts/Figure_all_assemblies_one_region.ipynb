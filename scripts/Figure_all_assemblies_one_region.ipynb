{
 "cells": [
  {
   "cell_type": "code",
   "execution_count": 1,
   "id": "1c49f201",
   "metadata": {},
   "outputs": [],
   "source": [
    "import pandas as pd\n",
    "import numpy as np"
   ]
  },
  {
   "cell_type": "code",
   "execution_count": 2,
   "id": "b43dc30d",
   "metadata": {},
   "outputs": [],
   "source": [
    "## OLD region \n",
    "# chr8:22886278–23003689\n",
    "\n",
    "## liftover to new assembly\n",
    "chr8:22842083-23843719"
   ]
  },
  {
   "cell_type": "code",
   "execution_count": 3,
   "id": "b502516c",
   "metadata": {},
   "outputs": [
    {
     "name": "stderr",
     "output_type": "stream",
     "text": [
      "/var/folders/05/4pfxtbrs5459ytz3j1jhcgt00000gn/T/ipykernel_2242/3906553930.py:11: SettingWithCopyWarning: \n",
      "A value is trying to be set on a copy of a slice from a DataFrame.\n",
      "Try using .loc[row_indexer,col_indexer] = value instead\n",
      "\n",
      "See the caveats in the documentation: https://pandas.pydata.org/pandas-docs/stable/user_guide/indexing.html#returning-a-view-versus-a-copy\n",
      "  sample_old['RD'] = sample_old['RD'] * 2\n"
     ]
    },
    {
     "data": {
      "text/html": [
       "<div>\n",
       "<style scoped>\n",
       "    .dataframe tbody tr th:only-of-type {\n",
       "        vertical-align: middle;\n",
       "    }\n",
       "\n",
       "    .dataframe tbody tr th {\n",
       "        vertical-align: top;\n",
       "    }\n",
       "\n",
       "    .dataframe thead th {\n",
       "        text-align: right;\n",
       "    }\n",
       "</style>\n",
       "<table border=\"1\" class=\"dataframe\">\n",
       "  <thead>\n",
       "    <tr style=\"text-align: right;\">\n",
       "      <th></th>\n",
       "      <th>Sample_ID</th>\n",
       "      <th>Chromosome</th>\n",
       "      <th>Start</th>\n",
       "      <th>End</th>\n",
       "      <th>CNV_value</th>\n",
       "      <th>Type</th>\n",
       "      <th>RD</th>\n",
       "      <th>Lenght</th>\n",
       "      <th>T-TEST-EVAL</th>\n",
       "      <th>GAUSSIAN-EVAL</th>\n",
       "    </tr>\n",
       "  </thead>\n",
       "  <tbody>\n",
       "    <tr>\n",
       "      <th>14752</th>\n",
       "      <td>LP6005441-DNA_B10</td>\n",
       "      <td>8</td>\n",
       "      <td>22992201</td>\n",
       "      <td>22996700</td>\n",
       "      <td>3.0</td>\n",
       "      <td>duplication</td>\n",
       "      <td>3.88814</td>\n",
       "      <td>4500.0</td>\n",
       "      <td>0.000000e+00</td>\n",
       "      <td>3.463040e-30</td>\n",
       "    </tr>\n",
       "    <tr>\n",
       "      <th>14753</th>\n",
       "      <td>LP6005441-DNA_B10</td>\n",
       "      <td>8</td>\n",
       "      <td>22997801</td>\n",
       "      <td>23000600</td>\n",
       "      <td>3.0</td>\n",
       "      <td>duplication</td>\n",
       "      <td>4.11506</td>\n",
       "      <td>2800.0</td>\n",
       "      <td>4.120920e-08</td>\n",
       "      <td>6.169350e-02</td>\n",
       "    </tr>\n",
       "  </tbody>\n",
       "</table>\n",
       "</div>"
      ],
      "text/plain": [
       "               Sample_ID Chromosome     Start       End  CNV_value  \\\n",
       "14752  LP6005441-DNA_B10          8  22992201  22996700        3.0   \n",
       "14753  LP6005441-DNA_B10          8  22997801  23000600        3.0   \n",
       "\n",
       "              Type       RD  Lenght   T-TEST-EVAL  GAUSSIAN-EVAL  \n",
       "14752  duplication  3.88814  4500.0  0.000000e+00   3.463040e-30  \n",
       "14753  duplication  4.11506  2800.0  4.120920e-08   6.169350e-02  "
      ]
     },
     "execution_count": 3,
     "metadata": {},
     "output_type": "execute_result"
    }
   ],
   "source": [
    "old_assembly = pd.read_csv('../data/cnvnator_cnvs.csv')\n",
    "#sample_old = old_assembly[['Chromosome', 'Start', 'End', 'LP6005441-DNA_B10']]\n",
    "#sample_old = old_assembly[old_assembly['Sample_ID'] == 'LP6005441-DNA_B10']\n",
    "#sample_old = sample_old[['Chromosome', 'Start', 'End', 'RD']]\n",
    "#sample_old['RD'] = sample_old['RD'] * 2\n",
    "#sample_old['Chromosome'] = str('chr')+sample_old['Chromosome']\n",
    "    #sample_old.to_csv('LP6005441-DNA_B10_grch37.bed', index=False, header=False, sep='\\t')\n",
    "    #list(sample_old.columns)\n",
    "sample_old = old_assembly[old_assembly['Sample_ID'] == 'LP6005441-DNA_B10']\n",
    "#sample_old\n",
    "sample_old['RD'] = sample_old['RD'] * 2 \n",
    "sample_old = sample_old[sample_old['T-TEST-EVAL'] < 0.05]\n",
    "#sample_old = sample_old[~sample_old['LP6005441-DNA_B10'].isin([2])]\n",
    "#sample_old.columns = ['Chromosome', 'Start', 'End', 'RD']\n",
    "#sample_old['assembly'] = 'GRCh37'\n",
    "sample_old = sample_old[sample_old['Chromosome'] == '8']\n",
    "sample_old =sample_old[sample_old['Start'] > 22886078]#chr8:22886278-23003689\n",
    "sample_old =sample_old[sample_old['End'] < 23003989]\n",
    "sample_old\n",
    "\n",
    "\n"
   ]
  },
  {
   "cell_type": "code",
   "execution_count": null,
   "id": "581aa85d",
   "metadata": {},
   "outputs": [],
   "source": []
  },
  {
   "cell_type": "code",
   "execution_count": 4,
   "id": "27c975da",
   "metadata": {},
   "outputs": [
    {
     "data": {
      "text/html": [
       "<div>\n",
       "<style scoped>\n",
       "    .dataframe tbody tr th:only-of-type {\n",
       "        vertical-align: middle;\n",
       "    }\n",
       "\n",
       "    .dataframe tbody tr th {\n",
       "        vertical-align: top;\n",
       "    }\n",
       "\n",
       "    .dataframe thead th {\n",
       "        text-align: right;\n",
       "    }\n",
       "</style>\n",
       "<table border=\"1\" class=\"dataframe\">\n",
       "  <thead>\n",
       "    <tr style=\"text-align: right;\">\n",
       "      <th></th>\n",
       "      <th>Chromosome</th>\n",
       "      <th>Start</th>\n",
       "      <th>End</th>\n",
       "      <th>RD</th>\n",
       "      <th>assembly</th>\n",
       "    </tr>\n",
       "  </thead>\n",
       "  <tbody>\n",
       "    <tr>\n",
       "      <th>324</th>\n",
       "      <td>chr8</td>\n",
       "      <td>23400001.0</td>\n",
       "      <td>23405000.0</td>\n",
       "      <td>0.00662</td>\n",
       "      <td>T2T-CHM13</td>\n",
       "    </tr>\n",
       "  </tbody>\n",
       "</table>\n",
       "</div>"
      ],
      "text/plain": [
       "    Chromosome       Start         End       RD   assembly\n",
       "324       chr8  23400001.0  23405000.0  0.00662  T2T-CHM13"
      ]
     },
     "execution_count": 4,
     "metadata": {},
     "output_type": "execute_result"
    }
   ],
   "source": [
    "sample_t2t = pd.read_csv('/Users/luciabazan/output.tsv', sep='\\t', header=None)\n",
    "sample_t2t = sample_t2t[[3,4,5,7]]\n",
    "sample_t2t.columns = ['Chromosome', 'Start', 'End', 'RD']\n",
    "sample_t2t['RD'] = sample_t2t['RD'] * 2 \n",
    "sample_t2t = sample_t2t[sample_t2t['Chromosome'] != 'chrM']\n",
    "sample_t2t['assembly'] = 'T2T-CHM13'\n",
    "sample_t2t = sample_t2t[sample_t2t['Chromosome'] == 'chr8']\n",
    "sample_t2t =sample_t2t[sample_t2t['Start'] > 23303027]#chr8:120264986-120277609\n",
    "sample_t2t =sample_t2t[sample_t2t['End'] < 23421904]\n",
    "sample_t2t"
   ]
  },
  {
   "cell_type": "code",
   "execution_count": 5,
   "id": "437885cd",
   "metadata": {},
   "outputs": [
    {
     "ename": "NameError",
     "evalue": "name 't2t_genome' is not defined",
     "output_type": "error",
     "traceback": [
      "\u001b[0;31m---------------------------------------------------------------------------\u001b[0m",
      "\u001b[0;31mNameError\u001b[0m                                 Traceback (most recent call last)",
      "Cell \u001b[0;32mIn[5], line 2\u001b[0m\n\u001b[1;32m      1\u001b[0m \u001b[38;5;66;03m# t2t_genome = pd.read_csv('/Users/luciabazan/Downloads/LP6005441-DNA_B10_gb.csv')\u001b[39;00m\n\u001b[0;32m----> 2\u001b[0m t2t_genome \u001b[38;5;241m=\u001b[39m t2t_genome[[\u001b[38;5;124m'\u001b[39m\u001b[38;5;124m#\u001b[39m\u001b[38;5;124m\"\u001b[39m\u001b[38;5;124mchrom\u001b[39m\u001b[38;5;124m\"\u001b[39m\u001b[38;5;124m'\u001b[39m,\u001b[38;5;124m'\u001b[39m\u001b[38;5;124mchromStart\u001b[39m\u001b[38;5;124m'\u001b[39m,\u001b[38;5;124m'\u001b[39m\u001b[38;5;124mchromEnd\u001b[39m\u001b[38;5;124m'\u001b[39m,\u001b[38;5;124m'\u001b[39m\u001b[38;5;124mID\u001b[39m\u001b[38;5;124m'\u001b[39m]]\n\u001b[1;32m      3\u001b[0m t2t_genome\u001b[38;5;241m.\u001b[39mcolumns \u001b[38;5;241m=\u001b[39m [\u001b[38;5;124m'\u001b[39m\u001b[38;5;124mChromosome\u001b[39m\u001b[38;5;124m'\u001b[39m, \u001b[38;5;124m'\u001b[39m\u001b[38;5;124mStart\u001b[39m\u001b[38;5;124m'\u001b[39m, \u001b[38;5;124m'\u001b[39m\u001b[38;5;124mEnd\u001b[39m\u001b[38;5;124m'\u001b[39m, \u001b[38;5;124m'\u001b[39m\u001b[38;5;124mRD\u001b[39m\u001b[38;5;124m'\u001b[39m]\n\u001b[1;32m      4\u001b[0m t2t_genome[\u001b[38;5;124m'\u001b[39m\u001b[38;5;124massembly\u001b[39m\u001b[38;5;124m'\u001b[39m] \u001b[38;5;241m=\u001b[39m \u001b[38;5;124m'\u001b[39m\u001b[38;5;124mGenomeBrowser\u001b[39m\u001b[38;5;124m'\u001b[39m\n",
      "\u001b[0;31mNameError\u001b[0m: name 't2t_genome' is not defined"
     ]
    }
   ],
   "source": [
    "# t2t_genome = pd.read_csv('/Users/luciabazan/Downloads/LP6005441-DNA_B10_gb.csv')\n",
    "t2t_genome = t2t_genome[['#\"chrom\"','chromStart','chromEnd','ID']]\n",
    "t2t_genome.columns = ['Chromosome', 'Start', 'End', 'RD']\n",
    "t2t_genome['assembly'] = 'GenomeBrowser'\n",
    "t2t_genome = t2t_genome[t2t_genome['Chromosome'] == 'chr8']\n",
    "#t2t_genome =t2t_genome[t2t_genome['Start'] > 23303727]#chr8:23303727-23421104\n",
    "#t2t_genome =t2t_genome[t2t_genome['End'] < 23421104]\n",
    "t2t_genome[t2t_genome['RD'] > 40]\n",
    "#t2t_genome.sort_values(by=['RD']).tail(50)"
   ]
  },
  {
   "cell_type": "code",
   "execution_count": 6,
   "id": "012dd063",
   "metadata": {},
   "outputs": [
    {
     "data": {
      "text/html": [
       "<div>\n",
       "<style scoped>\n",
       "    .dataframe tbody tr th:only-of-type {\n",
       "        vertical-align: middle;\n",
       "    }\n",
       "\n",
       "    .dataframe tbody tr th {\n",
       "        vertical-align: top;\n",
       "    }\n",
       "\n",
       "    .dataframe thead th {\n",
       "        text-align: right;\n",
       "    }\n",
       "</style>\n",
       "<table border=\"1\" class=\"dataframe\">\n",
       "  <thead>\n",
       "    <tr style=\"text-align: right;\">\n",
       "      <th></th>\n",
       "      <th>Chromosome</th>\n",
       "      <th>Start</th>\n",
       "      <th>End</th>\n",
       "      <th>RD</th>\n",
       "      <th>assembly</th>\n",
       "    </tr>\n",
       "  </thead>\n",
       "  <tbody>\n",
       "    <tr>\n",
       "      <th>13603</th>\n",
       "      <td>chr8</td>\n",
       "      <td>22981422</td>\n",
       "      <td>22981522</td>\n",
       "      <td>0</td>\n",
       "      <td>SUDMANT</td>\n",
       "    </tr>\n",
       "    <tr>\n",
       "      <th>13604</th>\n",
       "      <td>chr8</td>\n",
       "      <td>22996194</td>\n",
       "      <td>23001045</td>\n",
       "      <td>3</td>\n",
       "      <td>SUDMANT</td>\n",
       "    </tr>\n",
       "    <tr>\n",
       "      <th>13605</th>\n",
       "      <td>chr8</td>\n",
       "      <td>23003088</td>\n",
       "      <td>23003688</td>\n",
       "      <td>3</td>\n",
       "      <td>SUDMANT</td>\n",
       "    </tr>\n",
       "    <tr>\n",
       "      <th>13606</th>\n",
       "      <td>chr8</td>\n",
       "      <td>23001045</td>\n",
       "      <td>23003088</td>\n",
       "      <td>4</td>\n",
       "      <td>SUDMANT</td>\n",
       "    </tr>\n",
       "    <tr>\n",
       "      <th>13608</th>\n",
       "      <td>chr8</td>\n",
       "      <td>23001045</td>\n",
       "      <td>23002343</td>\n",
       "      <td>3</td>\n",
       "      <td>SUDMANT</td>\n",
       "    </tr>\n",
       "    <tr>\n",
       "      <th>13609</th>\n",
       "      <td>chr8</td>\n",
       "      <td>22981422</td>\n",
       "      <td>22989335</td>\n",
       "      <td>0</td>\n",
       "      <td>SUDMANT</td>\n",
       "    </tr>\n",
       "  </tbody>\n",
       "</table>\n",
       "</div>"
      ],
      "text/plain": [
       "      Chromosome     Start       End  RD assembly\n",
       "13603       chr8  22981422  22981522   0  SUDMANT\n",
       "13604       chr8  22996194  23001045   3  SUDMANT\n",
       "13605       chr8  23003088  23003688   3  SUDMANT\n",
       "13606       chr8  23001045  23003088   4  SUDMANT\n",
       "13608       chr8  23001045  23002343   3  SUDMANT\n",
       "13609       chr8  22981422  22989335   0  SUDMANT"
      ]
     },
     "execution_count": 6,
     "metadata": {},
     "output_type": "execute_result"
    }
   ],
   "source": [
    "sudmant = pd.read_csv('/Users/luciabazan/Downloads/sudmant_data.csv')\n",
    "sudmant = sudmant[['contig','start','end','OCN_Papuan_HGDP00550_F']]\n",
    "sudmant.columns =['Chromosome', 'Start', 'End', 'RD']\n",
    "sudmant['assembly'] = 'SUDMANT'\n",
    "sudmant = sudmant[sudmant['Chromosome'] == 'chr8']\n",
    "sudmant =sudmant[sudmant['Start'] > 22886078]#chr4:133174310-133183749\n",
    "sudmant =sudmant[sudmant['End'] < 23003989]\n",
    "sudmant\n"
   ]
  },
  {
   "cell_type": "code",
   "execution_count": null,
   "id": "592155c2",
   "metadata": {},
   "outputs": [],
   "source": []
  },
  {
   "cell_type": "code",
   "execution_count": null,
   "id": "3ceeae61",
   "metadata": {},
   "outputs": [],
   "source": []
  }
 ],
 "metadata": {
  "kernelspec": {
   "display_name": "Python 3 (ipykernel)",
   "language": "python",
   "name": "python3"
  },
  "language_info": {
   "codemirror_mode": {
    "name": "ipython",
    "version": 3
   },
   "file_extension": ".py",
   "mimetype": "text/x-python",
   "name": "python",
   "nbconvert_exporter": "python",
   "pygments_lexer": "ipython3",
   "version": "3.11.4"
  }
 },
 "nbformat": 4,
 "nbformat_minor": 5
}
