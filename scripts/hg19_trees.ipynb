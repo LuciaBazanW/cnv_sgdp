{
 "cells": [
  {
   "cell_type": "code",
   "execution_count": 2,
   "id": "6ba614c6",
   "metadata": {},
   "outputs": [
    {
     "ename": "NameError",
     "evalue": "name 'library' is not defined",
     "output_type": "error",
     "traceback": [
      "\u001b[0;31m---------------------------------------------------------------------------\u001b[0m",
      "\u001b[0;31mNameError\u001b[0m                                 Traceback (most recent call last)",
      "Input \u001b[0;32mIn [2]\u001b[0m, in \u001b[0;36m<cell line: 1>\u001b[0;34m()\u001b[0m\n\u001b[0;32m----> 1\u001b[0m \u001b[43mlibrary\u001b[49m(tidyr)\n\u001b[1;32m      2\u001b[0m library(dplyr)\n\u001b[1;32m      3\u001b[0m library(readr)\n",
      "\u001b[0;31mNameError\u001b[0m: name 'library' is not defined"
     ]
    }
   ],
   "source": [
    "library(tidyr)\n",
    "library(dplyr)\n",
    "library(readr)\n",
    "library(basetheme)\n",
    "library(phangorn)\n",
    "library(ape)\n",
    "library(ade4)\n",
    "library(ggtree)\n",
    "library(colorspace)\n",
    "library(adegenet)"
   ]
  },
  {
   "cell_type": "code",
   "execution_count": null,
   "id": "7005330a",
   "metadata": {},
   "outputs": [],
   "source": [
    "deletions = read.csv(\\\"../data/deletions_overlapped_archaic.csv\\\")\\n\",\n",
    "    \"duplications = read.csv(\\\"../data/duplications_overlapped_archaic.csv\\\")\\n\",\n",
    "    \"sgdp_cnv = read.csv(\\\"../data/cnvator_data_archaic_overlapped.csv\\\")\\n\",\n",
    "    \"anotation = read.csv(\\\"../data/SGDP_anotation.csv\\\")\\n\",\n",
    "    \"\\n\",\n",
    "    \"anotation = anotation[order(anotation$X3.Illumina_ID),]\\n\",\n",
    "    \"colnames(anotation)[2] =\\\"id\\\"\\n\",\n",
    "    \"colnames(anotation)[9] =\\\"Region\\\"\\n\",\n",
    "    \"anotation_2 = as.data.frame(anotation[,c(2,9)])\\n\",\n",
    "    \"rownames(anotation_2) <- anotation_2$id\\n\",\n",
    "    \"anotation_2$id <- NULL\\n\",\n",
    "    \"anotation_2\\n\",\n",
    "    \"\\n\",\n",
    "    \"\\n\",\n",
    "    \"sgdp_cnv <- sgdp_cnv[c(1, 2, 5, 6, 9)]\\n\",\n",
    "    \"#iris[c(1, 51, 101, 2, 52, 102), ]\\n\",\n",
    "    \"\\n\",\n",
    "    \"\\n\",\n",
    "    \"deletions = filter(sgdp_cnv, RD < 2)\\n\",\n",
    "    \"duplications = filter(sgdp_cnv, RD > 2)\\n\",\n",
    "    \"duplications\\n\",\n",
    "    \"#duplications[is.na(duplications)] <- 2\""
   ]
  }
 ],
 "metadata": {
  "kernelspec": {
   "display_name": "Python 3 (ipykernel)",
   "language": "python",
   "name": "python3"
  },
  "language_info": {
   "codemirror_mode": {
    "name": "ipython",
    "version": 3
   },
   "file_extension": ".py",
   "mimetype": "text/x-python",
   "name": "python",
   "nbconvert_exporter": "python",
   "pygments_lexer": "ipython3",
   "version": "3.8.2"
  }
 },
 "nbformat": 4,
 "nbformat_minor": 5
}
